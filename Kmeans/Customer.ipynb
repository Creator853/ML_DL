{
 "cells": [
  {
   "cell_type": "markdown",
   "metadata": {},
   "source": [
    "I downloaded this wholesale customer dataset from UCI Machine Learning Repository. The data set refers to clients of a wholesale distributor. It includes the annual spending in monetary units on diverse product categories.\n",
    "\n",
    "My goal today is to use various clustering techniques to segment customers. Clustering is an unsupervised learning algorithm that tries to cluster data based on their similarity. Thus, there is no outcome to be predicted, and the algorithm just tries to find patterns in the data."
   ]
  },
  {
   "cell_type": "code",
   "execution_count": 1,
   "metadata": {},
   "outputs": [],
   "source": [
    "import pandas as pd\n",
    "import matplotlib.pyplot as plt \n",
    "import numpy as np\n",
    "from sklearn.cluster import KMeans\n",
    "from sklearn.model_selection import train_test_split"
   ]
  },
  {
   "cell_type": "code",
   "execution_count": 4,
   "metadata": {},
   "outputs": [],
   "source": [
    "#load in the data and perform train_test_split\n",
    "df = pd.read_csv(\"WCD.csv\")\n",
    "train, test = train_test_split(df, test_size=0.2)"
   ]
  },
  {
   "cell_type": "code",
   "execution_count": 5,
   "metadata": {},
   "outputs": [
    {
     "name": "stdout",
     "output_type": "stream",
     "text": [
      "Training Data:  (352, 8)\n",
      "Testing Data:  (88, 8)\n"
     ]
    }
   ],
   "source": [
    "#Shapes\n",
    "print(\"Training Data: \", train.shape)\n",
    "print(\"Testing Data: \", test.shape)"
   ]
  },
  {
   "cell_type": "code",
   "execution_count": 6,
   "metadata": {},
   "outputs": [
    {
     "data": {
      "text/plain": [
       "KMeans()"
      ]
     },
     "execution_count": 6,
     "metadata": {},
     "output_type": "execute_result"
    }
   ],
   "source": [
    "#Model object initialisaton and fitting.\n",
    "model = KMeans()\n",
    "model.fit(train)"
   ]
  },
  {
   "cell_type": "code",
   "execution_count": 8,
   "metadata": {},
   "outputs": [
    {
     "name": "stdout",
     "output_type": "stream",
     "text": [
      "Default count of clusters:  8\n",
      "Cluster Centers:  [[1.07482993e+00 2.44897959e+00 5.93576871e+03 2.87615646e+03\n",
      "  3.20838095e+03 3.13613605e+03 8.83632653e+02 9.12231293e+02]\n",
      " [2.00000000e+00 2.50000000e+00 9.03883333e+03 2.40307778e+04\n",
      "  2.97280556e+04 2.01988889e+03 1.37903889e+04 3.20355556e+03]\n",
      " [1.23863636e+00 2.52272727e+00 1.94172727e+04 3.68285227e+03\n",
      "  5.04531818e+03 3.12479545e+03 1.15784091e+03 1.68278409e+03]\n",
      " [2.00000000e+00 2.66666667e+00 2.02080000e+04 2.98486667e+04\n",
      "  7.32253333e+04 1.47033333e+03 3.52100000e+04 2.05866667e+03]\n",
      " [1.83098592e+00 2.60563380e+00 4.44359155e+03 8.89511268e+03\n",
      "  1.38744789e+04 1.30697183e+03 6.15484507e+03 1.33391549e+03]\n",
      " [1.09523810e+00 2.52380952e+00 4.05739048e+04 3.86733333e+03\n",
      "  4.31419048e+03 3.99595238e+03 8.92714286e+02 2.10133333e+03]\n",
      " [1.00000000e+00 3.00000000e+00 9.41940000e+04 1.65500000e+04\n",
      "  1.26250000e+04 1.66415000e+04 2.86300000e+03 4.73400000e+03]\n",
      " [1.00000000e+00 2.50000000e+00 3.47820000e+04 3.03670000e+04\n",
      "  1.68980000e+04 4.87015000e+04 7.55500000e+02 2.67760000e+04]]\n"
     ]
    }
   ],
   "source": [
    "#Default number of clusters and their centers\n",
    "print(\"Default count of clusters: \", model.n_clusters) \n",
    "print(\"Cluster Centers: \", model.cluster_centers_)"
   ]
  },
  {
   "cell_type": "code",
   "execution_count": 11,
   "metadata": {},
   "outputs": [
    {
     "name": "stdout",
     "output_type": "stream",
     "text": [
      "Clusters on train data:  [0 2 2 4 0 0 0 4 0 0 4 4 1 2 0 0 0 4 4 0 2 4 0 0 0 0 0 0 2 2 4 5 2 0 0 2 5\n",
      " 0 0 2 2 2 6 2 2 0 0 0 2 0 0 4 2 0 5 0 2 4 4 4 4 0 0 2 1 0 4 0 0 0 0 2 0 0\n",
      " 4 0 4 0 0 4 2 1 5 4 0 0 0 4 5 2 0 5 1 4 4 0 0 2 0 4 4 0 0 2 4 2 0 2 4 1 0\n",
      " 0 2 4 0 0 3 2 5 2 2 4 2 1 0 0 0 4 2 0 0 0 2 2 0 5 0 2 0 0 4 5 4 0 4 2 2 5\n",
      " 0 2 2 4 0 2 2 0 4 0 4 2 0 0 4 4 2 2 0 0 0 2 1 0 4 2 4 7 0 2 0 0 4 4 2 0 0\n",
      " 2 0 5 4 0 4 4 2 0 0 4 2 0 2 4 0 5 2 0 1 2 0 3 0 2 2 0 5 0 4 0 1 0 1 4 5 2\n",
      " 7 4 0 0 5 2 2 2 0 1 5 0 2 2 0 1 0 4 0 0 2 0 0 2 2 0 0 0 0 0 0 4 4 0 5 0 2\n",
      " 2 2 0 2 0 2 0 4 0 1 4 2 4 2 2 2 2 0 4 0 0 4 4 4 0 0 1 2 0 4 0 6 0 2 2 2 0\n",
      " 2 5 1 2 0 0 2 4 0 0 0 0 4 1 4 0 4 0 0 0 1 1 5 2 0 2 4 3 0 2 5 0 2 0 2 4 5\n",
      " 4 2 4 2 0 0 0 4 4 0 0 2 4 0 0 0 0 0 4]\n"
     ]
    }
   ],
   "source": [
    "#Prediction of clusters on train dataset\n",
    "print(\"Clusters on train data: \", model.predict(train))"
   ]
  },
  {
   "cell_type": "code",
   "execution_count": 12,
   "metadata": {},
   "outputs": [
    {
     "name": "stdout",
     "output_type": "stream",
     "text": [
      "Clusters on test data:  [4 0 3 2 0 6 0 4 0 0 0 2 4 0 4 0 0 2 2 5 0 5 0 5 4 4 0 0 2 4 0 5 0 2 4 2 0\n",
      " 2 4 2 2 2 2 2 4 0 0 0 4 0 4 0 1 2 4 0 0 0 0 0 0 0 2 0 0 5 2 0 4 0 4 0 2 0\n",
      " 0 2 0 4 5 4 4 1 4 4 4 2 4 0]\n"
     ]
    }
   ],
   "source": [
    "#Prediction of clusters on test dataset\n",
    "print(\"Clusters on test data: \", model.predict(test))"
   ]
  },
  {
   "cell_type": "code",
   "execution_count": 15,
   "metadata": {},
   "outputs": [
    {
     "name": "stdout",
     "output_type": "stream",
     "text": [
      "Number of clusters:  3\n",
      "Cluster Centers:  [[1.26119403e+00 2.51119403e+00 8.50286940e+03 3.92690672e+03\n",
      "  5.24915672e+03 2.64588060e+03 1.79889179e+03 1.12884328e+03]\n",
      " [1.97368421e+00 2.50000000e+00 7.85026316e+03 1.92139474e+04\n",
      "  2.88961842e+04 1.87563158e+03 1.34792895e+04 2.27468421e+03]\n",
      " [1.15217391e+00 2.52173913e+00 3.59352391e+04 6.37056522e+03\n",
      "  6.52834783e+03 6.60410870e+03 1.18050000e+03 3.45458696e+03]]\n"
     ]
    }
   ],
   "source": [
    "#Now let's try to play around a bit.\n",
    "#We'll change the count of clusters.\n",
    "model1 = KMeans(n_clusters=3)\n",
    "model1.fit(train)\n",
    "print(\"Number of clusters: \", model1.n_clusters)\n",
    "print(\"Cluster Centers: \", model1.cluster_centers_)"
   ]
  },
  {
   "cell_type": "code",
   "execution_count": 16,
   "metadata": {},
   "outputs": [
    {
     "name": "stdout",
     "output_type": "stream",
     "text": [
      "Clusers on train  [0 0 0 0 0 0 0 0 0 0 1 0 1 0 0 0 0 0 0 0 0 0 0 0 0 0 0 0 0 0 1 2 0 0 0 0 2\n",
      " 0 0 0 0 0 2 2 2 0 0 0 0 0 0 0 0 0 2 0 2 0 1 0 0 0 0 2 1 0 0 0 0 0 0 2 0 0\n",
      " 1 0 0 0 0 0 0 1 2 0 0 0 0 0 2 0 0 2 1 1 0 0 0 0 0 0 0 0 0 2 0 0 0 2 0 1 0\n",
      " 0 2 0 0 0 1 0 2 0 0 1 2 1 0 0 0 0 0 0 0 0 0 0 0 2 0 2 0 0 0 2 1 0 0 0 0 2\n",
      " 0 2 2 0 0 2 0 0 0 0 0 0 0 0 0 0 0 0 0 0 0 0 1 0 1 0 0 2 0 0 0 0 0 0 0 0 0\n",
      " 0 0 2 0 0 0 0 0 0 0 0 0 0 0 1 0 2 0 0 1 0 0 1 0 2 2 0 2 0 0 0 1 0 1 0 2 0\n",
      " 2 1 0 0 2 0 0 0 0 1 2 0 0 2 0 1 0 0 0 0 0 0 0 0 0 0 0 0 0 0 0 1 0 0 2 0 0\n",
      " 0 0 0 0 0 0 0 0 0 1 0 0 0 0 0 0 0 0 0 0 0 0 0 0 0 0 1 0 0 1 0 2 0 2 0 2 0\n",
      " 2 2 1 0 0 0 0 0 0 0 0 0 0 1 1 0 1 0 0 0 1 1 2 2 0 0 0 1 0 2 2 0 0 0 0 1 2\n",
      " 1 0 0 0 0 0 0 0 1 0 0 0 0 0 0 0 0 0 0]\n"
     ]
    }
   ],
   "source": [
    "#Prediction of clusters on train dataset\n",
    "print(\"Clusers on train: \", model1.predict(train))"
   ]
  },
  {
   "cell_type": "code",
   "execution_count": 17,
   "metadata": {},
   "outputs": [
    {
     "name": "stdout",
     "output_type": "stream",
     "text": [
      "Clusters on test:  [0 0 1 0 0 2 0 0 0 0 0 0 0 0 0 0 0 0 0 2 0 2 0 2 0 0 0 0 2 0 0 2 0 0 0 0 0\n",
      " 2 0 2 2 0 0 0 0 0 0 0 1 0 0 0 1 2 1 0 0 0 0 0 0 0 2 0 0 2 0 0 1 0 0 0 0 0\n",
      " 0 0 0 1 2 0 1 1 0 0 1 0 0 0]\n"
     ]
    }
   ],
   "source": [
    "#Prediction of clusters on test dataset\n",
    "print(\"Clusters on test: \", model1.predict(test))"
   ]
  }
 ],
 "metadata": {
  "kernelspec": {
   "display_name": "Python 3.9.12 ('base')",
   "language": "python",
   "name": "python3"
  },
  "language_info": {
   "codemirror_mode": {
    "name": "ipython",
    "version": 3
   },
   "file_extension": ".py",
   "mimetype": "text/x-python",
   "name": "python",
   "nbconvert_exporter": "python",
   "pygments_lexer": "ipython3",
   "version": "3.9.12"
  },
  "orig_nbformat": 4,
  "vscode": {
   "interpreter": {
    "hash": "de40cebb529f8d7afb1b791fbae23bf4c4a133030df99b4a47ac4a5825bb4e1b"
   }
  }
 },
 "nbformat": 4,
 "nbformat_minor": 2
}
