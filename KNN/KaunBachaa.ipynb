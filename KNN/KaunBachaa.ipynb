{
 "cells": [
  {
   "cell_type": "markdown",
   "metadata": {},
   "source": [
    "Ab same dataset pe KNN ka prayog kar ke dekha jaae."
   ]
  },
  {
   "cell_type": "code",
   "execution_count": 5,
   "metadata": {},
   "outputs": [],
   "source": [
    "import pandas as pd\n",
    "import matplotlib.pyplot as plt\n",
    "import numpy as np\n",
    "from sklearn.neighbors import KNeighborsClassifier \n",
    "from sklearn.metrics import accuracy_score\n",
    "from sklearn.model_selection import train_test_split"
   ]
  },
  {
   "cell_type": "markdown",
   "metadata": {},
   "source": [
    "Let's load in the data.\n",
    "Now we'll perform two things.\n",
    "1 --> We'll drop the columns which do not contain numerical values.\n",
    "2 --> We'll replace all the NaN values with 0.\n",
    "3 --> We'll perform a train_test_split.\n",
    "4 --> Replace {0:female, 1:male} --> Since our dataset is an excel file this step was done using MSExcel but can also be done using .replace()"
   ]
  },
  {
   "cell_type": "code",
   "execution_count": 6,
   "metadata": {},
   "outputs": [],
   "source": [
    "df = pd.read_excel(\"titanic.xlsx\")\n",
    "#1\n",
    "df = df.drop(columns=[\"name\", \"home.dest\", \"cabin\", \"embarked\", \"ticket\", \"boat\", \"body\" ], axis=1)\n",
    "#2\n",
    "df = df.fillna(0)\n",
    "#3\n",
    "train , test = train_test_split(df, test_size=0.2)"
   ]
  },
  {
   "cell_type": "code",
   "execution_count": 7,
   "metadata": {},
   "outputs": [
    {
     "data": {
      "text/html": [
       "<div>\n",
       "<style scoped>\n",
       "    .dataframe tbody tr th:only-of-type {\n",
       "        vertical-align: middle;\n",
       "    }\n",
       "\n",
       "    .dataframe tbody tr th {\n",
       "        vertical-align: top;\n",
       "    }\n",
       "\n",
       "    .dataframe thead th {\n",
       "        text-align: right;\n",
       "    }\n",
       "</style>\n",
       "<table border=\"1\" class=\"dataframe\">\n",
       "  <thead>\n",
       "    <tr style=\"text-align: right;\">\n",
       "      <th></th>\n",
       "      <th>pclass</th>\n",
       "      <th>survived</th>\n",
       "      <th>sex</th>\n",
       "      <th>age</th>\n",
       "      <th>sibsp</th>\n",
       "      <th>parch</th>\n",
       "      <th>fare</th>\n",
       "    </tr>\n",
       "  </thead>\n",
       "  <tbody>\n",
       "    <tr>\n",
       "      <th>688</th>\n",
       "      <td>3</td>\n",
       "      <td>0</td>\n",
       "      <td>1</td>\n",
       "      <td>29.0</td>\n",
       "      <td>1</td>\n",
       "      <td>0</td>\n",
       "      <td>7.0458</td>\n",
       "    </tr>\n",
       "    <tr>\n",
       "      <th>736</th>\n",
       "      <td>3</td>\n",
       "      <td>0</td>\n",
       "      <td>1</td>\n",
       "      <td>59.0</td>\n",
       "      <td>0</td>\n",
       "      <td>0</td>\n",
       "      <td>7.2500</td>\n",
       "    </tr>\n",
       "    <tr>\n",
       "      <th>1167</th>\n",
       "      <td>3</td>\n",
       "      <td>0</td>\n",
       "      <td>1</td>\n",
       "      <td>0.0</td>\n",
       "      <td>0</td>\n",
       "      <td>0</td>\n",
       "      <td>7.7292</td>\n",
       "    </tr>\n",
       "    <tr>\n",
       "      <th>91</th>\n",
       "      <td>1</td>\n",
       "      <td>1</td>\n",
       "      <td>1</td>\n",
       "      <td>31.0</td>\n",
       "      <td>1</td>\n",
       "      <td>0</td>\n",
       "      <td>57.0000</td>\n",
       "    </tr>\n",
       "    <tr>\n",
       "      <th>776</th>\n",
       "      <td>3</td>\n",
       "      <td>0</td>\n",
       "      <td>1</td>\n",
       "      <td>32.0</td>\n",
       "      <td>0</td>\n",
       "      <td>0</td>\n",
       "      <td>7.7500</td>\n",
       "    </tr>\n",
       "  </tbody>\n",
       "</table>\n",
       "</div>"
      ],
      "text/plain": [
       "      pclass  survived  sex   age  sibsp  parch     fare\n",
       "688        3         0    1  29.0      1      0   7.0458\n",
       "736        3         0    1  59.0      0      0   7.2500\n",
       "1167       3         0    1   0.0      0      0   7.7292\n",
       "91         1         1    1  31.0      1      0  57.0000\n",
       "776        3         0    1  32.0      0      0   7.7500"
      ]
     },
     "execution_count": 7,
     "metadata": {},
     "output_type": "execute_result"
    }
   ],
   "source": [
    "#let's see ki jo humaari koshish thi kya vo kaamyaab hui\n",
    "train.head()\n",
    "# ----- HAAN KAAMYAAB HUE HUM ------- (Translation: Yes we're successful)"
   ]
  },
  {
   "cell_type": "code",
   "execution_count": 8,
   "metadata": {},
   "outputs": [
    {
     "name": "stdout",
     "output_type": "stream",
     "text": [
      "Shape of training data:  (1047, 7)\n",
      "Shape of testing data:  (262, 7)\n"
     ]
    }
   ],
   "source": [
    "#let's see the shapes of training and testing data.\n",
    "print(\"Shape of training data: \", train.shape)\n",
    "print(\"Shape of testing data: \", test.shape)"
   ]
  },
  {
   "cell_type": "code",
   "execution_count": 9,
   "metadata": {},
   "outputs": [],
   "source": [
    "#Now in this step we'll separate both training and testing data's independent and predictor variables.\n",
    "train_x = train.drop(columns=[\"survived\"], axis=1)\n",
    "train_y = train[\"survived\"]\n",
    "test_x = test.drop(columns=[\"survived\"], axis=1)\n",
    "test_y = test[\"survived\"]"
   ]
  },
  {
   "cell_type": "markdown",
   "metadata": {},
   "source": [
    "Before fitting the model I'll remind that it's using Hamming distance to perform KNN Classification. "
   ]
  },
  {
   "cell_type": "code",
   "execution_count": 10,
   "metadata": {},
   "outputs": [
    {
     "data": {
      "text/plain": [
       "KNeighborsClassifier()"
      ]
     },
     "execution_count": 10,
     "metadata": {},
     "output_type": "execute_result"
    }
   ],
   "source": [
    "model = KNeighborsClassifier()\n",
    "model.fit(train_x, train_y)"
   ]
  },
  {
   "cell_type": "code",
   "execution_count": 12,
   "metadata": {},
   "outputs": [
    {
     "name": "stdout",
     "output_type": "stream",
     "text": [
      "The number of neighbours used to predict the target:  5\n"
     ]
    }
   ],
   "source": [
    "print(\"The number of neighbours used to predict the target: \", model.n_neighbors)"
   ]
  },
  {
   "cell_type": "code",
   "execution_count": 13,
   "metadata": {},
   "outputs": [
    {
     "name": "stdout",
     "output_type": "stream",
     "text": [
      "Predictions made on training data:  [0 0 0 ... 0 0 0]\n"
     ]
    }
   ],
   "source": [
    "#Now let's perform prediction on training data.\n",
    "predict_train = model.predict(train_x)\n",
    "print(\"Predictions made on training data: \", predict_train)"
   ]
  },
  {
   "cell_type": "code",
   "execution_count": 14,
   "metadata": {},
   "outputs": [
    {
     "name": "stdout",
     "output_type": "stream",
     "text": [
      "Predictions made on testing data:  [0 0 0 0 0 0 0 1 0 0 0 0 1 1 1 0 1 1 0 0 1 1 0 0 0 0 0 0 0 0 0 0 0 0 1 0 0\n",
      " 0 1 0 0 0 0 0 1 1 0 0 1 0 0 0 0 0 0 1 1 0 0 0 1 0 0 1 0 1 0 0 1 1 0 1 0 0\n",
      " 1 1 0 0 0 0 0 1 0 0 1 0 0 0 1 1 1 0 0 0 0 1 0 0 1 1 1 0 0 0 0 1 0 0 1 0 1\n",
      " 0 1 0 0 0 0 1 0 0 0 0 1 1 1 0 0 0 0 0 0 1 1 0 0 1 1 0 1 0 0 0 0 1 0 1 0 0\n",
      " 0 0 0 0 1 0 1 0 1 0 0 0 0 0 0 0 1 1 1 1 0 0 0 0 1 0 0 0 1 0 0 0 1 0 1 0 1\n",
      " 0 1 0 1 0 1 1 0 0 1 0 0 0 0 1 0 1 0 0 0 0 0 0 0 0 1 0 0 0 1 1 1 0 1 0 0 0\n",
      " 0 0 0 1 0 0 0 0 1 0 0 1 1 1 1 0 0 1 1 0 1 1 1 0 0 0 0 0 0 0 0 0 0 1 0 1 0\n",
      " 1 0 1]\n"
     ]
    }
   ],
   "source": [
    "#Now let's perform prediction on testing data.\n",
    "predict_test = model.predict(test_x)\n",
    "print(\"Predictions made on testing data: \", predict_test)"
   ]
  },
  {
   "cell_type": "code",
   "execution_count": 15,
   "metadata": {},
   "outputs": [
    {
     "name": "stdout",
     "output_type": "stream",
     "text": [
      "Accuracy on training data is :  0.7765042979942693\n",
      "Accuracy on testing data is:  0.6946564885496184\n"
     ]
    }
   ],
   "source": [
    "#Let's check the accuracy_score on testing and training data.\n",
    "print(\"Accuracy on training data is : \", accuracy_score(train_y, predict_train))\n",
    "print(\"Accuracy on testing data is: \", accuracy_score(test_y, predict_test))"
   ]
  }
 ],
 "metadata": {
  "kernelspec": {
   "display_name": "Python 3.9.12 ('base')",
   "language": "python",
   "name": "python3"
  },
  "language_info": {
   "codemirror_mode": {
    "name": "ipython",
    "version": 3
   },
   "file_extension": ".py",
   "mimetype": "text/x-python",
   "name": "python",
   "nbconvert_exporter": "python",
   "pygments_lexer": "ipython3",
   "version": "3.9.12"
  },
  "orig_nbformat": 4,
  "vscode": {
   "interpreter": {
    "hash": "de40cebb529f8d7afb1b791fbae23bf4c4a133030df99b4a47ac4a5825bb4e1b"
   }
  }
 },
 "nbformat": 4,
 "nbformat_minor": 2
}
